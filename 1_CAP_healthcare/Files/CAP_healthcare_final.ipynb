{
    "cells": [
        {
            "cell_type": "markdown",
            "id": "2a6fbc22-f4a1-4387-9bd1-321e81f31c5e",
            "metadata": {},
            "source": [
                "# \ud83c\udfe5 Patient Readmission EDA \u2013 Healthcare Management\n",
                "\n",
                "This Jupyter notebook provides a step-by-step exploratory analysis of the Diabetic Patient dataset (`diabetic_data.csv`), guided by best practices and CAP_healthcare.pdf recommendations.\n",
                "\n",
                "---\n",
                "\n",
                "## 1. Import libraries & load the data\n"
            ]
        },
        {
            "cell_type": "code",
            "execution_count": 47,
            "id": "682c05f4-00b4-432b-b231-18c3ecc04076",
            "metadata": {},
            "outputs": [],
            "source": [
                "import pandas as pd\n",
                "import matplotlib.pyplot as plt\n",
                "import seaborn as sns\n",
                "\n",
                "# Read the cleaned dataset\n",
                "df = pd.read_csv(\"diabetic_data.csv\")\n",
                "\n",
                "# Load dataset\n",
                "df = pd.read_csv('diabetic_data.csv')\n",
                "\n",
                "# Inspect the first few rows\n",
                "print(df.head())"
            ]
        },
        {
            "cell_type": "markdown",
            "id": "f60e81ab-2dd9-4f2b-9391-818af4c6de37",
            "metadata": {},
            "source": [
                "---\n",
                "\n",
                "## 2. Data Cleaning\n"
            ]
        },
        {
            "cell_type": "code",
            "execution_count": 48,
            "id": "7f7b01e1-9adb-41ce-909e-bbc2962d48a0",
            "metadata": {},
            "outputs": [],
            "source": [
                "\n",
                "# Replace \u201c?\u201d in \u2018race\u2019 with \u201cUnknown\u201d\n",
                "df['race'] = df['race'].replace('?', 'Unknown')\n",
                "\n",
                "# Ensure consistency in \u2018readmitted\u2019 values\n",
                "df['readmitted'] = df['readmitted'].replace({'&gt;30': '>30', '&lt;30': '<30', '>30': '>30', '<30': '<30', 'NO': 'NO'})"
            ]
        },
        {
            "cell_type": "markdown",
            "id": "37b939c5-968d-4b5a-8043-7b1784ec2281",
            "metadata": {},
            "source": [
                "\n",
                "> **Explanation:**  \n",
                "> We clean the `race` column by converting missing values \"?\" to `\"Unknown\"`, ensuring all demographic analyses are accurate. The `readmitted` status is also standardized for consistency in further grouping and plotting.\n",
                "\n",
                "---\n",
                "\n",
                "## 3. Descriptive Statistics\n"
            ]
        },
        {
            "cell_type": "code",
            "execution_count": 49,
            "id": "890e9e2b-4d2f-4282-9e7d-a7b3be9da3ba",
            "metadata": {},
            "outputs": [],
            "source": [
                "#Summary statistics for key numeric columns\n",
                "display(df.describe())\n",
                "\n",
                "#Median values for numeric columns\n",
                "display(df.median(numeric_only=True))"
            ]
        },
        {
            "cell_type": "code",
            "execution_count": 57,
            "id": "0ed717de-7064-4d1d-910b-ee3112d1d7c5",
            "metadata": {},
            "outputs": [],
            "source": [
                "numeric_cols = [\n",
                "    'time_in_hospital',\n",
                "    'num_lab_procedures',\n",
                "    'num_procedures',\n",
                "    'num_medications',\n",
                "    'number_outpatient',\n",
                "    'number_emergency',\n",
                "    'number_inpatient'\n",
                "]\n",
                "\n",
                "# Get summary statistics\n",
                "df[numeric_cols].describe()\n",
                "\n",
                "# Display mean values\n",
                "display(df[numeric_cols].mean())\n",
                "\n",
                "# Transpose the result if you prefer vertical view\n",
                "df[numeric_cols].describe().T"
            ]
        },
        {
            "cell_type": "markdown",
            "id": "7680678f-4b37-45bd-b7ba-02a4d8505b8e",
            "metadata": {},
            "source": [
                "\n",
                "> **Findings:**  \n",
                "> - The dataset shows high variability in resource usage, e.g., `num_lab_procedures` mean \u224843, standard deviation \u224820.\n",
                "> - Most patients have a brief hospital stay (median = 4 days).\n",
                "> - The majority have few previous encounters, but some outliers exist (`number_outpatient`, etc.).\n",
                "\n",
                "---\n",
                "\n",
                "## 4. Race Distribution\n"
            ]
        },
        {
            "cell_type": "code",
            "execution_count": 58,
            "id": "ca1d8af1-3506-4c83-85b5-db1a8e5d502d",
            "metadata": {},
            "outputs": [],
            "source": [
                "df['race'].value_counts().plot(kind='bar', title='Race Distribution', color=sns.color_palette('pastel'))\n",
                "plt.xlabel('Race')\n",
                "plt.ylabel('Count')\n",
                "plt.tight_layout()\n",
                "plt.show()"
            ]
        },
        {
            "cell_type": "markdown",
            "id": "14cfa303-57bc-484e-ba30-553e04c91103",
            "metadata": {},
            "source": [
                "\n",
                "> **Findings:**  \n",
                "> The cohort is predominantly Caucasian, with African American as the next largest group. About 2,000 records are \"Unknown\", which can affect population health equity analyses.\n",
                "\n",
                "---\n",
                "\n",
                "## 5. Gender Distribution\n"
            ]
        },
        {
            "cell_type": "code",
            "execution_count": 59,
            "id": "8af7d1f4-5642-45f8-8ea9-a62d97b70410",
            "metadata": {},
            "outputs": [],
            "source": [
                "df['gender'].value_counts().plot(kind='bar', title='Gender Distribution', color=['#86c5d8', '#beaed4', '#fdc086'])\n",
                "plt.xlabel('Gender')\n",
                "plt.ylabel('Count')\n",
                "plt.tight_layout()\n",
                "plt.show()"
            ]
        },
        {
            "cell_type": "markdown",
            "id": "fb75991d-1df9-4a41-89c8-dc569163da37",
            "metadata": {},
            "source": [
                "\n",
                "> **Interpretation:**  \n",
                "> The gender split is balanced, with a slight female predominance. A very small number of \"Unknown/Invalid\" entries are present, which were also seen in race.\n",
                "\n",
                "---\n",
                "\n",
                "## 6. Readmission by Age Group\n"
            ]
        },
        {
            "cell_type": "code",
            "execution_count": 60,
            "id": "9b040f3e-34c7-46e7-a596-bd4c5e89f31f",
            "metadata": {},
            "outputs": [],
            "source": [
                "plt.figure(figsize=(8,5))\n",
                "sns.countplot(x='age', hue='readmitted', data=df, palette='Set2')\n",
                "plt.title('Readmission by Age Group')\n",
                "plt.xlabel('Age Group')\n",
                "plt.ylabel('Patient Count')\n",
                "plt.xticks(rotation=45)\n",
                "plt.legend(title='Readmitted')\n",
                "plt.tight_layout()\n",
                "plt.show()"
            ]
        },
        {
            "cell_type": "markdown",
            "id": "5e3fbcc1-6c76-4e86-b36c-7e44fcab6e3b",
            "metadata": {},
            "source": [
                "\n",
                "> **Insights:**  \n",
                "> - Readmissions are more frequent in older age groups (\u226560).\n",
                "> - Both the \">30\" and \"<30\" day readmissions are highest among elderly patients, highlighting a vulnerable population for targeted intervention.\n",
                "\n",
                "---\n",
                "\n",
                "## 7. Correlation among Numerical Features\n"
            ]
        },
        {
            "cell_type": "code",
            "execution_count": 61,
            "id": "894869fa-6dd3-406a-a69a-9bada604ad1d",
            "metadata": {},
            "outputs": [],
            "source": [
                "num_cols = ['time_in_hospital','num_lab_procedures','num_procedures','num_medications','number_outpatient','number_emergency','number_inpatient']\n",
                "plt.figure(figsize=(8,6))\n",
                "\n",
                "# Select these columns from df, then call .corr()\n",
                "sns.heatmap(df[num_cols].corr(), annot=True, cmap='coolwarm', fmt='.2f')\n",
                "plt.title('Correlation among Numerical Features')\n",
                "plt.tight_layout()\n",
                "plt.show()"
            ]
        },
        {
            "cell_type": "markdown",
            "id": "d81546ee-1c8d-4d27-b881-38b09401fc54",
            "metadata": {},
            "source": [
                "\n",
                "> **Key Points:**  \n",
                "> - `time_in_hospital` is most strongly correlated with `num_medications` (r \u2248 0.47) and `num_lab_procedures` (r \u2248 0.32).\n",
                "> - Previous encounters (`number_inpatient`, etc.) are not strongly correlated with resource usage, indicating other drivers for hospital resource consumption.\n",
                "> - No multicollinearity concern found.\n",
                "\n",
                "---\n",
                "\n",
                "## 8. Medication Change Distribution\n"
            ]
        },
        {
            "cell_type": "code",
            "execution_count": 62,
            "id": "67f01dd5-9c71-4e5b-ac49-7b449efa81ab",
            "metadata": {},
            "outputs": [],
            "source": [
                "df['change'].value_counts().plot(kind='bar', title='Medication Change Distribution', color=sns.color_palette('pastel'))\n",
                "plt.xlabel('Change')\n",
                "plt.ylabel('Count')\n",
                "plt.tight_layout()\n",
                "plt.show()"
            ]
        },
        {
            "cell_type": "markdown",
            "id": "367e4086-00b3-440c-ab5b-f3307eb408f7",
            "metadata": {},
            "source": [
                "\n",
                "> **Observation:**  \n",
                "> About half the patients had their medication regimens changed, supporting CAP_healthcare's suggestion to analyze therapy management as a potential influence on readmission.\n",
                "\n",
                "---\n",
                "\n",
                "## 9. Number of Medications per Encounter\n"
            ]
        },
        {
            "cell_type": "code",
            "execution_count": 63,
            "id": "bc1d8bcd-9671-403e-865c-5d74dc08eb91",
            "metadata": {},
            "outputs": [],
            "source": [
                "df['num_medications'].plot(kind='hist', bins=30, title='Num of Medications per Encounter', color='#b3de69')\n",
                "plt.xlabel('Number of Medications')\n",
                "plt.ylabel('Frequency')\n",
                "plt.tight_layout()\n",
                "plt.show()"
            ]
        },
        {
            "cell_type": "markdown",
            "id": "35cef9f3-1efd-4c43-957f-f9752a2cf448",
            "metadata": {},
            "source": [
                "\n",
                "> **Insight:**  \n",
                "> Most encounters involved 10-20 medications. High medication count may be a proxy for complex comorbidity or polypharmacy, which deserves attention for risk management.\n",
                "\n",
                "---\n",
                "\n",
                "## 10. Top 10 Primary Diagnoses\n"
            ]
        },
        {
            "cell_type": "code",
            "execution_count": 64,
            "id": "96cb2355-aff8-4a3b-b74b-7b91912bdbab",
            "metadata": {},
            "outputs": [],
            "source": [
                "df['diag_1'].value_counts().head(10).plot(kind='bar', color='#fb8072')\n",
                "plt.title('Top 10 Primary Diagnoses')\n",
                "plt.xlabel('Diagnosis Code')\n",
                "plt.ylabel('Count')\n",
                "plt.tight_layout()\n",
                "plt.show()"
            ]
        },
        {
            "cell_type": "markdown",
            "id": "c756223e-2a8f-47fa-848c-0b4d9b2b4e20",
            "metadata": {},
            "source": [
                "\n",
                "> **Finding:**  \n",
                "> The most frequent diagnoses (e.g., 428, 414) typically correspond to chronic complications of diabetes, such as heart failure and ischemic heart disease, which aligns with the CAP_healthcare clinical recommendations for prioritizing cardiovascular care.\n",
                "\n",
                "---\n",
                "\n",
                "## 11. Distribution of Admission/Source/Discharge\n"
            ]
        },
        {
            "cell_type": "code",
            "execution_count": 74,
            "id": "91b768d2-0b0e-4b76-a4c8-85007c19fe1d",
            "metadata": {},
            "outputs": [],
            "source": [
                "for col in ['admission_type_id', 'admission_source_id', 'discharge_disposition_id']:\n",
                "    df[col].value_counts().sort_index().plot(\n",
                "        kind='bar',\n",
                "        title=f'{col} Distribution',\n",
                "        color=sns.color_palette('pastel')\n",
                "    )\n",
                "    plt.xlabel(col)\n",
                "    plt.ylabel('Count')\n",
                "    plt.tight_layout()\n",
                "    plt.show()\n"
            ]
        },
        {
            "cell_type": "markdown",
            "id": "8fe31cca-cc94-4535-b551-66dcfb05047d",
            "metadata": {},
            "source": [
                "\n",
                "> **Commentary:**  \n",
                "> - Most patients are admitted as emergencies or from outpatient referrals.\n",
                "> - Discharge dispositions show the majority returning home, but non-home discharges could be explored for their relationship to readmission risk.\n",
                "\n",
                "---\n",
                "\n",
                "## 12. Outlier Detection \u2013 Numerical Features\n"
            ]
        },
        {
            "cell_type": "code",
            "execution_count": 66,
            "id": "f125115c-38b2-497f-8392-9f720143c445",
            "metadata": {},
            "outputs": [],
            "source": [
                "plt.figure(figsize=(10,5))\n",
                "sns.boxplot(data=df[num_cols])\n",
                "plt.title('Outlier Detection - Numerical Features')\n",
                "plt.xticks(rotation=45)\n",
                "plt.tight_layout()\n",
                "plt.show()"
            ]
        },
        {
            "cell_type": "markdown",
            "id": "592fd445-eb55-43fd-b1d2-b2582a58287f",
            "metadata": {},
            "source": [
                "\n",
                "> **Interpretation:**  \n",
                "> The boxplot highlights outliers in procedures and previous visits. These may represent super-utilizers or possible data entry anomalies, and should be carefully checked before predictive modeling.\n",
                "\n",
                "---\n",
                "\n",
                "## 13. Enhancement: Additional Visualizations\n",
                "\n",
                "**A. Readmission Counts**\n"
            ]
        },
        {
            "cell_type": "code",
            "execution_count": 67,
            "id": "fafc0acf-55c7-436a-9996-fba7d5ea966e",
            "metadata": {},
            "outputs": [],
            "source": [
                "sns.countplot(x= 'readmitted', data=df, palette='Set1')\n",
                "plt.title('Overall Readmission Status Counts')\n",
                "plt.xlabel('Readmission Status')\n",
                "plt.ylabel('Count')\n",
                "plt.tight_layout()\n",
                "plt.show()"
            ]
        },
        {
            "cell_type": "markdown",
            "id": "595c3d45-16df-4de1-920f-ddfc5a7b6b49",
            "metadata": {},
            "source": [
                "\n",
                "> **Takeaway:**  \n",
                "> The majority of patients are not readmitted, but nearly half experience some form of readmission, highlighting the clinical and operational importance of this issue.\n",
                "\n",
                "---\n",
                "\n",
                "**B. Age vs. Number of Medications (Scatter for Complexity)**\n"
            ]
        },
        {
            "cell_type": "code",
            "execution_count": 68,
            "id": "c55439cd-88fd-433e-bd6a-29b09a7489d1",
            "metadata": {},
            "outputs": [],
            "source": [
                "plt.figure(figsize=(8,5))\n",
                "sns.scatterplot(data=df,x='num_medications',y='age',hue='readmitted',alpha=0.5,palette='Set1')\n",
                "plt.title('Number of Medications vs. Age Group by Readmission')\n",
                "plt.xlabel('Number of Medications')\n",
                "plt.ylabel('Age Group')\n",
                "plt.legend(title='Readmitted')\n",
                "plt.tight_layout()\n",
                "plt.show()"
            ]
        },
        {
            "cell_type": "markdown",
            "id": "c9e5ad69-5f5e-4564-960b-a3907feee952",
            "metadata": {},
            "source": [
                "\n",
                "> **Note:**  \n",
                "> This plot reveals patterns between age, polypharmacy, and readmission. Considered alongside earlier findings, multi-morbidity in older patients is visually evident.\n",
                "\n",
                "---\n",
                "\n",
                "# \ud83d\udcdd Conclusion\n",
                "\n",
                "This analysis covers demographic structure, resource consumption, clinical complexity, and key risk factors for readmission in the provided diabetic cohort. All plots and observations are in harmony with best practices from CAP_healthcare.pdf, and can be extended into risk modeling and business intelligence dashboards as per your project goals.\n",
                "\n",
                "---\n"
            ]
        },
        {
            "cell_type": "code",
            "execution_count": null,
            "id": "a0df1d84-bb41-4a6b-8812-94aaafb7f6f2",
            "metadata": {},
            "outputs": [],
            "source": []
        }
    ],
    "metadata": {
        "kernelspec": {
            "display_name": "Python 3 [3.10]",
            "language": "python",
            "name": "python3"
        },
        "language_info": {
            "codemirror_mode": {
                "name": "ipython",
                "version": 3
            },
            "file_extension": ".py",
            "mimetype": "text/x-python",
            "name": "python",
            "nbconvert_exporter": "python",
            "pygments_lexer": "ipython3",
            "version": "3.10.2"
        }
    },
    "nbformat": 4,
    "nbformat_minor": 5
}