{
    "cells": [
        {
            "cell_type": "markdown",
            "id": "8b06b684-97a9-4104-8746-7c5ff22dc477",
            "metadata": {},
            "source": [
                "# Credit Card Fraud Data Analysis: Step-by-Step Workflow\n",
                "\n",
                "## 1. Data Preprocessing in Python (Stratified Sampling)\n",
                "\n",
                "### **Step 1: Install Packages**"
            ]
        },
        {
            "cell_type": "code",
            "execution_count": 1,
            "id": "a686b589-00a5-4b64-8a70-5e4d28e8fa6b",
            "metadata": {},
            "outputs": [],
            "source": [
                "pip install pandas"
            ]
        },
        {
            "cell_type": "markdown",
            "id": "e8c7cea6-8927-44be-b4ed-686c121f1a3c",
            "metadata": {},
            "source": [
                "### **Step 2: Filtering, Selecting Columns, and Stratified Sample**"
            ]
        },
        {
            "cell_type": "code",
            "execution_count": 13,
            "id": "08be1b58-b35f-4a17-9a40-666b9f871828",
            "metadata": {},
            "outputs": [],
            "source": [
                "import pandas as pd\n",
                "\n",
                "# Load the dataset\n",
                "df = pd.read_csv('cc_data.csv')  # Replace with your actual file path\n",
                "\n",
                "# Select only required columns for downstream analysis\n",
                "cols_needed = ['amt', 'city_pop', 'is_fraud', 'gender', 'category', 'state', 'job']\n",
                "df = df[cols_needed]\n",
                "\n",
                "# Apply basic filters for clean analysis\n",
                "df = df[df['amt'] > 0]  # Only positive transactions\n",
                "df = df[df['gender'].notnull()]  # Valid gender values\n",
                "\n",
                "# Remove duplicates\n",
                "df = df.drop_duplicates()\n",
                "\n",
                "# Stratified Sampling: Sample 5% from each \u2018category\u2019 group, retain small groups\n",
                "optimum_frac = 0.05\n",
                "stratified_sample = df.groupby('category', group_keys=False).apply(\n",
                "lambda x: x.sample(frac=optimum_frac, random_state=42) if len(x) > 20 else x\n",
                ").reset_index(drop=True)\n",
                "\n",
                "# Export to CSV for Excel Online analysis\n",
                "stratified_sample.to_csv('stratified_sample.csv', index=False)"
            ]
        }
    ],
    "metadata": {
        "kernelspec": {
            "display_name": "Python 3 [3.10]",
            "language": "python",
            "name": "python3"
        },
        "language_info": {
            "codemirror_mode": {
                "name": "ipython",
                "version": 3
            },
            "file_extension": ".py",
            "mimetype": "text/x-python",
            "name": "python",
            "nbconvert_exporter": "python",
            "pygments_lexer": "ipython3",
            "version": "3.10.2"
        }
    },
    "nbformat": 4,
    "nbformat_minor": 5
}